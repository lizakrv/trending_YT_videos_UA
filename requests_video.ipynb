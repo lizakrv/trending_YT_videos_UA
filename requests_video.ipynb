{
 "cells": [
  {
   "cell_type": "code",
   "execution_count": 2,
   "id": "103641c2",
   "metadata": {},
   "outputs": [
    {
     "name": "stdout",
     "output_type": "stream",
     "text": [
      "kZob9B95z-I\n",
      "⚡ЖДАНОВ: ХТО РОЗМІНУВАВ ВИХІД З КРИМУ. Олег Жданов, Роман Скрипін\n",
      "Z8Z51no1TD0\n",
      "Kalush Orchestra - Stefania (Official Video Eurovision 2022)\n",
      "F1fl60ypdLs\n",
      "Kalush Orchestra - Stefania - LIVE - Ukraine 🇺🇦 - Grand Final - Eurovision 2022\n",
      "VhyLh5sGRRI\n",
      "Eurovision Song Contest 2022 - Grand Final - Full Show - Live Stream - Turin\n",
      "R7ldgZ-7kLA\n",
      "Обласний авторитет ЦАР проти ПРОКУРОРки області. Хто кого? Синя в хлам журналістка і буха істерика.\n"
     ]
    }
   ],
   "source": [
    "import requests\n",
    "import config\n",
    "\n",
    "most_popular = requests.get(\n",
    "    f\"https://www.googleapis.com/youtube/v3/videos?key={config.api_key}&part=snippet&chart=mostPopular&regionCode=UA&maxResults=5\"\n",
    ").json()\n",
    "\n",
    "\n",
    "video = [(inf[\"id\"], inf[\"snippet\"][\"title\"])\n",
    "         for inf in most_popular.get(\"items\")]\n",
    "\n",
    "print(\"\\n\".join([i for x in video for i in x]))"
   ]
  }
 ],
 "metadata": {
  "kernelspec": {
   "display_name": "Python 3 (ipykernel)",
   "language": "python",
   "name": "python3"
  },
  "language_info": {
   "codemirror_mode": {
    "name": "ipython",
    "version": 3
   },
   "file_extension": ".py",
   "mimetype": "text/x-python",
   "name": "python",
   "nbconvert_exporter": "python",
   "pygments_lexer": "ipython3",
   "version": "3.10.2"
  }
 },
 "nbformat": 4,
 "nbformat_minor": 5
}
